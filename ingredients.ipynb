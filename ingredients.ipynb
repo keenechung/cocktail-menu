{
 "cells": [
  {
   "cell_type": "code",
   "execution_count": null,
   "id": "babfb696",
   "metadata": {},
   "outputs": [],
   "source": [
    "liquors = set([\n",
    "    'Vodka', 'Tequila', 'Pisco', 'Gin', \n",
    "    'Dark Rum', 'Light Rum', 'Malibu Coconut Rum', \n",
    "    'Whiskey/Bourbon/Scotch', 'Disaronno', \n",
    "    'champagne/procecco'\n",
    "])\n",
    "\n"
   ]
  },
  {
   "cell_type": "code",
   "execution_count": null,
   "id": "22fc3c96",
   "metadata": {},
   "outputs": [],
   "source": [
    "liqueurs = set([\n",
    "    'Agu bitters', 'sweet vermouth', 'dry vermouth', \n",
    "    'cointreau', 'orange curacao'\n",
    "    'coffee liqueur', 'Campari'\n",
    "    \n",
    "])"
   ]
  },
  {
   "cell_type": "code",
   "execution_count": null,
   "id": "d91dd9fe",
   "metadata": {},
   "outputs": [],
   "source": [
    "juices = set([\n",
    "    'orange', 'key lime', 'lime', 'lemon', 'pineapple', 'grapefruit', 'cranberry'\n",
    "])"
   ]
  },
  {
   "cell_type": "code",
   "execution_count": null,
   "id": "7b65dd8e",
   "metadata": {},
   "outputs": [],
   "source": [
    "fruits_garnishings = set([\n",
    "    'orange', 'lime', 'lemon', 'pineapple', 'grapefruit', \n",
    "    'cranberries', 'strawberry', 'red cherries', 'maraschino cherries',  \n",
    "    'olives', 'coffee beans', 'mint leaves'\n",
    "])"
   ]
  },
  {
   "cell_type": "code",
   "execution_count": null,
   "id": "80d89f90",
   "metadata": {},
   "outputs": [],
   "source": [
    "mixers = set([\n",
    "    'ginger beer', 'tonic water', 'club soda', 'coke', 'ginger ale', 'sprite'\n",
    "])"
   ]
  },
  {
   "cell_type": "code",
   "execution_count": null,
   "id": "438f460e",
   "metadata": {},
   "outputs": [],
   "source": [
    "syrups_condiments = set([\n",
    "    'simple sugar syrup', \n",
    "    'homemade strawberry-infused syrup', \n",
    "    'grenadine syrup',\n",
    "    'orgeat syrup', \n",
    "    'course salt for rim', 'sugar cubes', 'sugar for rim', 'egg white'\n",
    "])"
   ]
  },
  {
   "cell_type": "code",
   "execution_count": 5,
   "id": "7ce3de3d",
   "metadata": {},
   "outputs": [
    {
     "data": {
      "text/plain": [
       "{'a', 'b', 'c'}"
      ]
     },
     "execution_count": 5,
     "metadata": {},
     "output_type": "execute_result"
    }
   ],
   "source": [
    "alcohol"
   ]
  },
  {
   "cell_type": "code",
   "execution_count": null,
   "id": "8488a4e6",
   "metadata": {},
   "outputs": [],
   "source": []
  }
 ],
 "metadata": {
  "kernelspec": {
   "display_name": "myenv",
   "language": "python",
   "name": "python3"
  },
  "language_info": {
   "codemirror_mode": {
    "name": "ipython",
    "version": 3
   },
   "file_extension": ".py",
   "mimetype": "text/x-python",
   "name": "python",
   "nbconvert_exporter": "python",
   "pygments_lexer": "ipython3",
   "version": "3.9.6"
  }
 },
 "nbformat": 4,
 "nbformat_minor": 5
}
